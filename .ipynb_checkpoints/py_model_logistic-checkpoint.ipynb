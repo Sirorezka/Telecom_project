{
 "cells": [
  {
   "cell_type": "code",
   "execution_count": 19,
   "metadata": {
    "collapsed": false
   },
   "outputs": [],
   "source": [
    "%matplotlib inline \n",
    "import matplotlib.pyplot as plt\n",
    "import pandas as pd\n",
    "import numpy as np\n",
    "import re\n",
    "from sklearn.cross_validation import cross_val_score, cross_val_predict,  train_test_split , KFold, StratifiedKFold\n",
    "from sklearn.ensemble import RandomForestClassifier, GradientBoostingClassifier, GradientBoostingRegressor, ExtraTreesClassifier\n",
    "from sklearn.metrics import log_loss, r2_score,roc_auc_score, precision_recall_curve, accuracy_score, precision_score, recall_score, f1_score, confusion_matrix\n",
    "from sklearn.tree import DecisionTreeClassifier\n",
    "from sklearn.linear_model import LogisticRegression\n",
    "from sklearn.preprocessing import normalize, MinMaxScaler\n",
    "from sklearn.feature_selection import RFECV\n",
    "from sklearn.svm import SVC\n",
    "from sklearn.tree import export_graphviz\n",
    "from sklearn.grid_search import GridSearchCV"
   ]
  },
  {
   "cell_type": "code",
   "execution_count": 20,
   "metadata": {
    "collapsed": false
   },
   "outputs": [],
   "source": [
    "factors_all = pd.read_csv(\"pr_data/factors.csv\")\n",
    "y_all  = pd.read_csv(\"pr_data/y_train.csv\")"
   ]
  },
  {
   "cell_type": "code",
   "execution_count": 21,
   "metadata": {
    "collapsed": false
   },
   "outputs": [
    {
     "name": "stdout",
     "output_type": "stream",
     "text": [
      "Number of features:  25\n"
     ]
    }
   ],
   "source": [
    "print (\"Number of features: \", factors_all.shape[1]-2)"
   ]
  },
  {
   "cell_type": "code",
   "execution_count": 22,
   "metadata": {
    "collapsed": false
   },
   "outputs": [
    {
     "name": "stdout",
     "output_type": "stream",
     "text": [
      "f_train rows:  1220\n",
      "f_test rows:  0\n"
     ]
    }
   ],
   "source": [
    "##  Splitting data into test and train\n",
    "\n",
    "feat_names = factors_all.columns.values[2:]\n",
    "ind_train = y_all.loc[:,'class']!=-1\n",
    "\n",
    "y_train = y_all.loc[ind_train,'class']\n",
    "f_train = factors_all.loc[ind_train,:].iloc[:,2:]\n",
    "\n",
    "y_test = y_all.loc[~ind_train,'class']   # always -1\n",
    "f_test = factors_all.loc[~ind_train,:].iloc[:,2:]\n",
    "\n",
    "print (\"f_train rows: \",f_train.shape[0])\n",
    "print (\"f_test rows: \",f_test.shape[0])"
   ]
  },
  {
   "cell_type": "code",
   "execution_count": 23,
   "metadata": {
    "collapsed": false
   },
   "outputs": [
    {
     "name": "stdout",
     "output_type": "stream",
     "text": [
      "no test\n"
     ]
    }
   ],
   "source": [
    "##  Scalling feautures\n",
    "\n",
    "minmax = MinMaxScaler()\n",
    "minmax.fit(f_train)\n",
    "f_train = minmax.fit_transform(f_train)\n",
    "try:\n",
    "    f_test = minmax.fit_transform(f_test)\n",
    "except:\n",
    "    print (\"no test\")\n",
    "    pass"
   ]
  },
  {
   "cell_type": "code",
   "execution_count": 32,
   "metadata": {
    "collapsed": false
   },
   "outputs": [
    {
     "name": "stdout",
     "output_type": "stream",
     "text": [
      "Optimal number of features : 5\n",
      "[1 1 2 1 1 1 3]\n"
     ]
    },
    {
     "data": {
      "text/plain": [
       "array(['cid_match', 'cid_non_match', 'cid_min_non_match', 'ss', 's2'], dtype=object)"
      ]
     },
     "execution_count": 32,
     "metadata": {},
     "output_type": "execute_result"
    }
   ],
   "source": [
    "##  Feature selection\n",
    "\n",
    "# clf = ExtraTreesClassifier()\n",
    "# clf.fit(f_train, y_train)\n",
    "# feat_imp = clf.feature_importances_\n",
    "# srt = sorted(feat_imp,reverse=True)\n",
    "# srt\n",
    "\n",
    "n_folds = StratifiedKFold(y_train,  n_folds=5, random_state=553)\n",
    "\n",
    "clf = LogisticRegression(C = 550)\n",
    "rfecv = RFECV(estimator=clf, step=1, cv=n_folds, scoring='roc_auc')\n",
    "rfecv.fit(f_train,y_train)\n",
    "\n",
    "print(\"Optimal number of features : %d\" % rfecv.n_features_)\n",
    "print (rfecv.ranking_)\n",
    "\n",
    "sel_feat = rfecv.ranking_<=1\n",
    "feat_names[sel_feat]"
   ]
  },
  {
   "cell_type": "code",
   "execution_count": 33,
   "metadata": {
    "collapsed": false
   },
   "outputs": [
    {
     "name": "stdout",
     "output_type": "stream",
     "text": [
      "no test\n"
     ]
    }
   ],
   "source": [
    "f_train = f_train[:,sel_feat]\n",
    "try:\n",
    "    f_test = f_test[:,sel_feat]\n",
    "except:\n",
    "    print (\"no test\")\n",
    "    pass"
   ]
  },
  {
   "cell_type": "code",
   "execution_count": 39,
   "metadata": {
    "collapsed": false,
    "scrolled": true
   },
   "outputs": [
    {
     "name": "stdout",
     "output_type": "stream",
     "text": [
      "[ 0.93049242  0.97159091  0.92537879  0.94412879  0.97291667]\n",
      "mean scores:  0.948901515152\n",
      "min scores:  0.925378787879\n",
      "roc_auc score:  0.872727272727\n",
      "0.97131147541\n",
      "f1 score:  0.837209302326\n",
      "0.75\n",
      "0.947368421053\n",
      "[[1095    5]\n",
      " [  30   90]]\n"
     ]
    }
   ],
   "source": [
    "## Stratified learning on train\n",
    "\n",
    "n_folds = StratifiedKFold(y_train,  n_folds=5, random_state=42)\n",
    "\n",
    "clf = LogisticRegression(C = 550)\n",
    "#clf = DecisionTreeClassifier(min_samples_leaf=13,  max_depth=5)\n",
    "#clf = DecisionTreeClassifier( max_depth=3)\n",
    "#clf = RandomForestClassifier(n_estimators=250, max_depth=5, random_state=177)\n",
    "\n",
    "\n",
    "scores = cross_val_score(clf, f_train, y_train, cv=n_folds, scoring = 'roc_auc')\n",
    "\n",
    "clf.fit(f_train,y_train)\n",
    "y_pred = clf.predict(f_train)\n",
    "\n",
    "print (scores)\n",
    "print (\"mean scores: \", scores.mean())\n",
    "print (\"min scores: \", scores.min())\n",
    "\n",
    "print(\"roc_auc score: \",roc_auc_score  (y_train,y_pred))\n",
    "print (accuracy_score (y_train,y_pred))\n",
    "print (\"f1 score: \", f1_score (y_train,y_pred))\n",
    "print (recall_score (y_train,y_pred))\n",
    "print (precision_score (y_train,y_pred))\n",
    "\n",
    "cm = confusion_matrix(y_train,y_pred)\n",
    "print (cm)"
   ]
  },
  {
   "cell_type": "code",
   "execution_count": 40,
   "metadata": {
    "collapsed": false
   },
   "outputs": [
    {
     "data": {
      "text/plain": [
       "array([[ 29.7 ,  -9.63, -12.01, -14.01,  19.4 ]])"
      ]
     },
     "execution_count": 40,
     "metadata": {},
     "output_type": "execute_result"
    }
   ],
   "source": [
    "np.round(clf.coef_,2)"
   ]
  },
  {
   "cell_type": "code",
   "execution_count": 42,
   "metadata": {
    "collapsed": false
   },
   "outputs": [
    {
     "name": "stdout",
     "output_type": "stream",
     "text": [
      "no test\n"
     ]
    }
   ],
   "source": [
    "clf = LogisticRegression(C = 350)\n",
    "\n",
    "## clf = RandomForestClassifier(n_estimators=130, max_depth=7, random_state=177)\n",
    "scores = cross_val_score(clf, f_train, y_train, cv=n_folds, scoring = 'roc_auc')\n",
    "clf.fit (f_train,y_train)\n",
    "\n",
    "y_train_pred = clf.predict(f_train)\n",
    "y_train_proba = clf.predict_proba(f_train)\n",
    "\n",
    "try:\n",
    "    y_test_pred = clf.predict(f_test)\n",
    "    y_test_proba = clf.predict_proba(f_test)\n",
    "except:\n",
    "    print (\"no test\")"
   ]
  },
  {
   "cell_type": "code",
   "execution_count": 120,
   "metadata": {
    "collapsed": false,
    "scrolled": false
   },
   "outputs": [
    {
     "name": "stdout",
     "output_type": "stream",
     "text": [
      "1220\n",
      "2785980\n",
      "(2787200,)\n",
      "(2787200,)\n"
     ]
    }
   ],
   "source": [
    "print(len(y_train_pred))\n",
    "print(len(y_test_pred))\n",
    "\n",
    "y_pred = np.concatenate((y_test_pred, y_train_pred),axis=0)\n",
    "y_prob = np.concatenate((y_test_proba[:,1], y_train_proba[:,1]),axis=0)\n",
    "y_fin = np.column_stack ((y_pred,y_prob))\n",
    "\n",
    "print(y_pred.shape)\n",
    "print(y_prob.shape)"
   ]
  },
  {
   "cell_type": "code",
   "execution_count": 121,
   "metadata": {
    "collapsed": false,
    "scrolled": false
   },
   "outputs": [
    {
     "name": "stdout",
     "output_type": "stream",
     "text": [
      "96\n",
      "6144\n"
     ]
    }
   ],
   "source": [
    "print(sum(y_train_proba[:,1]>0.5))\n",
    "print(sum(y_prob>0.5))"
   ]
  },
  {
   "cell_type": "code",
   "execution_count": 122,
   "metadata": {
    "collapsed": false
   },
   "outputs": [],
   "source": [
    "np.savetxt(\"pr_data/y_pred_log.csv\",y_fin, fmt='%.3f',  delimiter=',')"
   ]
  },
  {
   "cell_type": "code",
   "execution_count": 123,
   "metadata": {
    "collapsed": false
   },
   "outputs": [
    {
     "data": {
      "text/plain": [
       "array([ 0.00078146,  0.00060267,  0.0006957 , ...,  0.03679077,\n",
       "        0.02379292,  0.03361273])"
      ]
     },
     "execution_count": 123,
     "metadata": {},
     "output_type": "execute_result"
    }
   ],
   "source": [
    "y_prob"
   ]
  },
  {
   "cell_type": "code",
   "execution_count": null,
   "metadata": {
    "collapsed": true
   },
   "outputs": [],
   "source": []
  }
 ],
 "metadata": {
  "kernelspec": {
   "display_name": "Python 3",
   "language": "python",
   "name": "python3"
  },
  "language_info": {
   "codemirror_mode": {
    "name": "ipython",
    "version": 3
   },
   "file_extension": ".py",
   "mimetype": "text/x-python",
   "name": "python",
   "nbconvert_exporter": "python",
   "pygments_lexer": "ipython3",
   "version": "3.5.1"
  }
 },
 "nbformat": 4,
 "nbformat_minor": 0
}
