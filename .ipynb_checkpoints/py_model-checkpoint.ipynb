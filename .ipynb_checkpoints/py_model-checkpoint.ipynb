{
 "cells": [
  {
   "cell_type": "code",
   "execution_count": 1,
   "metadata": {
    "collapsed": false
   },
   "outputs": [],
   "source": [
    "%matplotlib inline \n",
    "import matplotlib.pyplot as plt\n",
    "import pandas as pd\n",
    "import numpy as np\n",
    "import re\n",
    "from sklearn.cross_validation import cross_val_score, cross_val_predict,  train_test_split , KFold, StratifiedKFold\n",
    "from sklearn.ensemble import RandomForestClassifier, GradientBoostingClassifier, GradientBoostingRegressor\n",
    "from sklearn.metrics import log_loss, r2_score,roc_auc_score, precision_recall_curve, accuracy_score, precision_score, recall_score, f1_score, confusion_matrix\n",
    "from sklearn.tree import DecisionTreeClassifier\n",
    "from sklearn.linear_model import LogisticRegression\n",
    "from sklearn.preprocessing import normalize, MinMaxScaler\n",
    "from sklearn.feature_selection import RFECV\n",
    "from sklearn.svm import SVC\n",
    "from sklearn.tree import export_graphviz"
   ]
  },
  {
   "cell_type": "code",
   "execution_count": 2,
   "metadata": {
    "collapsed": false
   },
   "outputs": [],
   "source": [
    "all_factors = pd.read_csv(\"pr_data/factors.csv\")\n",
    "y_train  = pd.read_csv(\"pr_data/y_train.csv\")"
   ]
  },
  {
   "cell_type": "code",
   "execution_count": 3,
   "metadata": {
    "collapsed": false
   },
   "outputs": [],
   "source": [
    "feat_names = all_factors.columns.values[2:]\n",
    "X = all_factors.iloc[:,2:]\n",
    "\n",
    "# removing nan's\n",
    "for i in range (0,X.shape[1]):\n",
    "    X.loc[np.isnan(X.iloc[:,i]),X.columns[i]] = 0\n",
    "\n",
    "y = y_train.iloc [:,2]"
   ]
  },
  {
   "cell_type": "code",
   "execution_count": 4,
   "metadata": {
    "collapsed": false
   },
   "outputs": [
    {
     "data": {
      "text/html": [
       "<div>\n",
       "<table border=\"1\" class=\"dataframe\">\n",
       "  <thead>\n",
       "    <tr style=\"text-align: right;\">\n",
       "      <th></th>\n",
       "      <th>ss</th>\n",
       "      <th>s2</th>\n",
       "      <th>s3</th>\n",
       "      <th>Data card</th>\n",
       "      <th>Laptop</th>\n",
       "      <th>Network device</th>\n",
       "      <th>SmartPhone</th>\n",
       "      <th>USB modem</th>\n",
       "      <th>phone_matched</th>\n",
       "      <th>vendor_matched</th>\n",
       "      <th>l2_dist_diff_1</th>\n",
       "      <th>l1_dist_diff_1</th>\n",
       "      <th>l2_dist_diff_2</th>\n",
       "      <th>l1_dist_diff_2</th>\n",
       "      <th>ss_adj</th>\n",
       "      <th>s2_adj</th>\n",
       "      <th>s3_adj</th>\n",
       "    </tr>\n",
       "  </thead>\n",
       "  <tbody>\n",
       "    <tr>\n",
       "      <th>1</th>\n",
       "      <td>0.363636</td>\n",
       "      <td>0.800000</td>\n",
       "      <td>0.500000</td>\n",
       "      <td>0</td>\n",
       "      <td>1</td>\n",
       "      <td>0</td>\n",
       "      <td>1</td>\n",
       "      <td>0</td>\n",
       "      <td>0</td>\n",
       "      <td>0</td>\n",
       "      <td>-52.585594</td>\n",
       "      <td>-66.539896</td>\n",
       "      <td>52.585594</td>\n",
       "      <td>66.539896</td>\n",
       "      <td>0.636364</td>\n",
       "      <td>0.636364</td>\n",
       "      <td>0.518519</td>\n",
       "    </tr>\n",
       "    <tr>\n",
       "      <th>2</th>\n",
       "      <td>0.666667</td>\n",
       "      <td>0.666667</td>\n",
       "      <td>0.235294</td>\n",
       "      <td>0</td>\n",
       "      <td>0</td>\n",
       "      <td>0</td>\n",
       "      <td>2</td>\n",
       "      <td>0</td>\n",
       "      <td>0</td>\n",
       "      <td>0</td>\n",
       "      <td>92.916618</td>\n",
       "      <td>-18.397684</td>\n",
       "      <td>92.916618</td>\n",
       "      <td>18.397684</td>\n",
       "      <td>0.228070</td>\n",
       "      <td>0.928571</td>\n",
       "      <td>0.366197</td>\n",
       "    </tr>\n",
       "    <tr>\n",
       "      <th>3</th>\n",
       "      <td>0.000000</td>\n",
       "      <td>0.000000</td>\n",
       "      <td>0.000000</td>\n",
       "      <td>0</td>\n",
       "      <td>1</td>\n",
       "      <td>0</td>\n",
       "      <td>0</td>\n",
       "      <td>0</td>\n",
       "      <td>0</td>\n",
       "      <td>0</td>\n",
       "      <td>-21440.739020</td>\n",
       "      <td>-14524.980586</td>\n",
       "      <td>21440.739020</td>\n",
       "      <td>14524.980586</td>\n",
       "      <td>0.142857</td>\n",
       "      <td>0.142857</td>\n",
       "      <td>0.114286</td>\n",
       "    </tr>\n",
       "    <tr>\n",
       "      <th>4</th>\n",
       "      <td>0.000000</td>\n",
       "      <td>0.000000</td>\n",
       "      <td>0.000000</td>\n",
       "      <td>0</td>\n",
       "      <td>1</td>\n",
       "      <td>0</td>\n",
       "      <td>1</td>\n",
       "      <td>0</td>\n",
       "      <td>0</td>\n",
       "      <td>0</td>\n",
       "      <td>21831.581233</td>\n",
       "      <td>10208.013647</td>\n",
       "      <td>21831.581233</td>\n",
       "      <td>10208.013647</td>\n",
       "      <td>0.000000</td>\n",
       "      <td>0.000000</td>\n",
       "      <td>0.000000</td>\n",
       "    </tr>\n",
       "    <tr>\n",
       "      <th>5</th>\n",
       "      <td>0.200000</td>\n",
       "      <td>0.200000</td>\n",
       "      <td>0.114286</td>\n",
       "      <td>0</td>\n",
       "      <td>0</td>\n",
       "      <td>0</td>\n",
       "      <td>2</td>\n",
       "      <td>0</td>\n",
       "      <td>0</td>\n",
       "      <td>0</td>\n",
       "      <td>-2252.162341</td>\n",
       "      <td>-1794.654269</td>\n",
       "      <td>2252.162341</td>\n",
       "      <td>1794.654269</td>\n",
       "      <td>0.200000</td>\n",
       "      <td>0.200000</td>\n",
       "      <td>0.114286</td>\n",
       "    </tr>\n",
       "  </tbody>\n",
       "</table>\n",
       "</div>"
      ],
      "text/plain": [
       "         ss        s2        s3  Data card  Laptop  Network device  \\\n",
       "1  0.363636  0.800000  0.500000          0       1               0   \n",
       "2  0.666667  0.666667  0.235294          0       0               0   \n",
       "3  0.000000  0.000000  0.000000          0       1               0   \n",
       "4  0.000000  0.000000  0.000000          0       1               0   \n",
       "5  0.200000  0.200000  0.114286          0       0               0   \n",
       "\n",
       "   SmartPhone  USB modem  phone_matched  vendor_matched  l2_dist_diff_1  \\\n",
       "1           1          0              0               0      -52.585594   \n",
       "2           2          0              0               0       92.916618   \n",
       "3           0          0              0               0   -21440.739020   \n",
       "4           1          0              0               0    21831.581233   \n",
       "5           2          0              0               0    -2252.162341   \n",
       "\n",
       "   l1_dist_diff_1  l2_dist_diff_2  l1_dist_diff_2    ss_adj    s2_adj  \\\n",
       "1      -66.539896       52.585594       66.539896  0.636364  0.636364   \n",
       "2      -18.397684       92.916618       18.397684  0.228070  0.928571   \n",
       "3   -14524.980586    21440.739020    14524.980586  0.142857  0.142857   \n",
       "4    10208.013647    21831.581233    10208.013647  0.000000  0.000000   \n",
       "5    -1794.654269     2252.162341     1794.654269  0.200000  0.200000   \n",
       "\n",
       "     s3_adj  \n",
       "1  0.518519  \n",
       "2  0.366197  \n",
       "3  0.114286  \n",
       "4  0.000000  \n",
       "5  0.114286  "
      ]
     },
     "execution_count": 4,
     "metadata": {},
     "output_type": "execute_result"
    }
   ],
   "source": [
    "#print(X.head())\n",
    "\n",
    "#min_max_scaler = MinMaxScaler()\n",
    "#X = min_max_scaler.fit_transform(X)\n",
    "#print (np.min(X, axis=0))\n",
    "#print (np.max(X, axis=0))\n",
    "X.head()"
   ]
  },
  {
   "cell_type": "code",
   "execution_count": 5,
   "metadata": {
    "collapsed": false,
    "scrolled": true
   },
   "outputs": [],
   "source": [
    "# n_folds = StratifiedKFold(y,  n_folds=3, random_state=42)\n",
    "\n",
    "# #clf = LogisticRegression(C = 1000)\n",
    "# clf = DecisionTreeClassifier()\n",
    "# svc = SVC(kernel=\"linear\")\n",
    "\n",
    "# rfecv = RFECV(estimator=svc, step=1, cv=n_folds,\n",
    "#               scoring='f1')\n",
    "\n",
    "# rfecv.fit(X, y)\n",
    "\n",
    "# print(\"Optimal number of features : %d\" % rfecv.n_features_)\n",
    "\n",
    "# # Plot number of features VS. cross-validation scores\n",
    "# plt.figure()\n",
    "# plt.xlabel(\"Number of features selected\")\n",
    "# plt.ylabel(\"Cross validation score (nb of correct classifications)\")\n",
    "# plt.plot(range(1, len(rfecv.grid_scores_) + 1), rfecv.grid_scores_)\n",
    "# plt.show()\n",
    "\n",
    "# print (rfecv.ranking_)"
   ]
  },
  {
   "cell_type": "code",
   "execution_count": 6,
   "metadata": {
    "collapsed": false
   },
   "outputs": [
    {
     "name": "stdout",
     "output_type": "stream",
     "text": [
      "[ 0.90359848  0.94876894  0.91808712  0.915625    0.96306818]\n",
      "mean scores:  0.929829545455\n",
      "min scores:  0.903598484848\n",
      "roc_auc score:  0.9\n",
      "0.980327868852\n",
      "f1 score:  0.888888888889\n",
      "0.8\n",
      "1.0\n",
      "[[1100    0]\n",
      " [  24   96]]\n"
     ]
    }
   ],
   "source": [
    "#X_sel = X[:,rfecv.ranking_<=3]\n",
    "#feat_sel = feat_names[rfecv.ranking_<=4]\n",
    "X_sel = X.iloc[:,:]\n",
    "\n",
    "n_folds = StratifiedKFold(y,  n_folds=5, random_state=42)\n",
    "\n",
    "#clf = LogisticRegression(C = 450)\n",
    "#clf = DecisionTreeClassifier(min_samples_leaf=13,  max_depth=5)\n",
    "#clf = DecisionTreeClassifier( max_depth=3)\n",
    "clf = RandomForestClassifier(n_estimators=100, max_depth=5, random_state=177)\n",
    "\n",
    "\n",
    "scores = cross_val_score(clf, X_sel, y, cv=n_folds, scoring = 'roc_auc')\n",
    "\n",
    "clf.fit(X_sel,y)\n",
    "y_pred = clf.predict(X_sel)\n",
    "\n",
    "print (scores)\n",
    "print (\"mean scores: \", scores.mean())\n",
    "print (\"min scores: \", scores.min())\n",
    "\n",
    "print(\"roc_auc score: \",roc_auc_score  (y,y_pred))\n",
    "print (accuracy_score (y,y_pred))\n",
    "print (\"f1 score: \", f1_score (y,y_pred))\n",
    "print (recall_score (y,y_pred))\n",
    "print (precision_score (y,y_pred))\n",
    "\n",
    "cm = confusion_matrix(y, y_pred)\n",
    "print (cm)"
   ]
  },
  {
   "cell_type": "code",
   "execution_count": 35,
   "metadata": {
    "collapsed": false
   },
   "outputs": [
    {
     "data": {
      "text/plain": [
       "array([ 0.06,  0.09,  0.09,  0.  ,  0.  ,  0.  ,  0.  ,  0.  ,  0.  ,\n",
       "        0.  ,  0.04,  0.02,  0.02,  0.03,  0.16,  0.24,  0.24])"
      ]
     },
     "execution_count": 35,
     "metadata": {},
     "output_type": "execute_result"
    }
   ],
   "source": [
    "np.round(clf.feature_importances_,2)"
   ]
  },
  {
   "cell_type": "code",
   "execution_count": 31,
   "metadata": {
    "collapsed": false
   },
   "outputs": [],
   "source": [
    "np.savetxt(\"pr_data/y_pred.csv\",y_pred, fmt='%2.0f', delimiter=\"\\n\")"
   ]
  },
  {
   "cell_type": "code",
   "execution_count": 32,
   "metadata": {
    "collapsed": false
   },
   "outputs": [
    {
     "ename": "AttributeError",
     "evalue": "'RandomForestClassifier' object has no attribute 'tree_'",
     "output_type": "error",
     "traceback": [
      "\u001b[1;31m---------------------------------------------------------------------------\u001b[0m",
      "\u001b[1;31mAttributeError\u001b[0m                            Traceback (most recent call last)",
      "\u001b[1;32m<ipython-input-32-d92f37712bb3>\u001b[0m in \u001b[0;36m<module>\u001b[1;34m()\u001b[0m\n\u001b[1;32m----> 1\u001b[1;33m \u001b[0mexport_graphviz\u001b[0m\u001b[1;33m(\u001b[0m\u001b[0mclf\u001b[0m\u001b[1;33m,\u001b[0m \u001b[0mout_file\u001b[0m\u001b[1;33m=\u001b[0m\u001b[1;34m'tree.dot'\u001b[0m\u001b[1;33m)\u001b[0m\u001b[1;33m\u001b[0m\u001b[0m\n\u001b[0m",
      "\u001b[1;32mC:\\Users\\Ivan.Petrov\\Programs\\WinPython-64bit-3.5.1.1\\python-3.5.1.amd64\\lib\\site-packages\\sklearn\\tree\\export.py\u001b[0m in \u001b[0;36mexport_graphviz\u001b[1;34m(decision_tree, out_file, max_depth, feature_names, class_names, label, filled, leaves_parallel, impurity, node_ids, proportion, rotate, rounded, special_characters)\u001b[0m\n\u001b[0;32m    401\u001b[0m             \u001b[0mrecurse\u001b[0m\u001b[1;33m(\u001b[0m\u001b[0mdecision_tree\u001b[0m\u001b[1;33m,\u001b[0m \u001b[1;36m0\u001b[0m\u001b[1;33m,\u001b[0m \u001b[0mcriterion\u001b[0m\u001b[1;33m=\u001b[0m\u001b[1;34m\"impurity\"\u001b[0m\u001b[1;33m)\u001b[0m\u001b[1;33m\u001b[0m\u001b[0m\n\u001b[0;32m    402\u001b[0m         \u001b[1;32melse\u001b[0m\u001b[1;33m:\u001b[0m\u001b[1;33m\u001b[0m\u001b[0m\n\u001b[1;32m--> 403\u001b[1;33m             \u001b[0mrecurse\u001b[0m\u001b[1;33m(\u001b[0m\u001b[0mdecision_tree\u001b[0m\u001b[1;33m.\u001b[0m\u001b[0mtree_\u001b[0m\u001b[1;33m,\u001b[0m \u001b[1;36m0\u001b[0m\u001b[1;33m,\u001b[0m \u001b[0mcriterion\u001b[0m\u001b[1;33m=\u001b[0m\u001b[0mdecision_tree\u001b[0m\u001b[1;33m.\u001b[0m\u001b[0mcriterion\u001b[0m\u001b[1;33m)\u001b[0m\u001b[1;33m\u001b[0m\u001b[0m\n\u001b[0m\u001b[0;32m    404\u001b[0m \u001b[1;33m\u001b[0m\u001b[0m\n\u001b[0;32m    405\u001b[0m         \u001b[1;31m# If required, draw leaf nodes at same depth as each other\u001b[0m\u001b[1;33m\u001b[0m\u001b[1;33m\u001b[0m\u001b[0m\n",
      "\u001b[1;31mAttributeError\u001b[0m: 'RandomForestClassifier' object has no attribute 'tree_'"
     ]
    }
   ],
   "source": [
    "export_graphviz(clf, out_file='tree.dot')   "
   ]
  },
  {
   "cell_type": "code",
   "execution_count": null,
   "metadata": {
    "collapsed": true
   },
   "outputs": [],
   "source": []
  },
  {
   "cell_type": "code",
   "execution_count": null,
   "metadata": {
    "collapsed": true
   },
   "outputs": [],
   "source": []
  }
 ],
 "metadata": {
  "kernelspec": {
   "display_name": "Python 3",
   "language": "python",
   "name": "python3"
  },
  "language_info": {
   "codemirror_mode": {
    "name": "ipython",
    "version": 3
   },
   "file_extension": ".py",
   "mimetype": "text/x-python",
   "name": "python",
   "nbconvert_exporter": "python",
   "pygments_lexer": "ipython3",
   "version": "3.4.3"
  }
 },
 "nbformat": 4,
 "nbformat_minor": 0
}
