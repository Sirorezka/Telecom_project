{
 "cells": [
  {
   "cell_type": "code",
   "execution_count": 140,
   "metadata": {
    "collapsed": false
   },
   "outputs": [],
   "source": [
    "%matplotlib inline \n",
    "import matplotlib.pyplot as plt\n",
    "import pandas as pd\n",
    "import numpy as np\n",
    "import re\n",
    "from sklearn.cross_validation import cross_val_score, cross_val_predict,  train_test_split , KFold, StratifiedKFold\n",
    "from sklearn.ensemble import RandomForestClassifier, GradientBoostingClassifier, GradientBoostingRegressor\n",
    "from sklearn.metrics import log_loss, r2_score,roc_auc_score, precision_recall_curve, accuracy_score, precision_score, recall_score, f1_score, confusion_matrix\n",
    "from sklearn.tree import DecisionTreeClassifier\n",
    "from  sklearn.linear_model import LogisticRegression"
   ]
  },
  {
   "cell_type": "code",
   "execution_count": 100,
   "metadata": {
    "collapsed": false
   },
   "outputs": [],
   "source": [
    "all_factors = pd.read_csv(\"pr_data/factors.csv\")\n",
    "y_train  = pd.read_csv(\"pr_data/y_train.csv\")"
   ]
  },
  {
   "cell_type": "code",
   "execution_count": 101,
   "metadata": {
    "collapsed": false
   },
   "outputs": [],
   "source": [
    "X = all_factors.iloc[:,2:]\n",
    "\n",
    "# removing nan's\n",
    "for i in range (0,X.shape[1]):\n",
    "    X.loc[np.isnan(X.iloc[:,i]),X.columns[i]] = 0\n",
    "\n",
    "y = y_train.iloc [:,2]"
   ]
  },
  {
   "cell_type": "code",
   "execution_count": 162,
   "metadata": {
    "collapsed": false
   },
   "outputs": [
    {
     "name": "stdout",
     "output_type": "stream",
     "text": [
      "[ 0.76190476  0.8372093   0.81818182  0.7804878   0.86956522]\n",
      "0.862903225806\n",
      "0.972222222222\n",
      "0.841121495327\n",
      "0.725806451613\n",
      "1.0\n",
      "[[1100    0]\n",
      " [  34   90]]\n"
     ]
    }
   ],
   "source": [
    "n_folds = StratifiedKFold(y,  n_folds=5, random_state=42)\n",
    "\n",
    "#clf = LogisticRegression(C = 0.5)\n",
    "clf = DecisionTreeClassifier()\n",
    "clf = RandomForestClassifier(n_estimators=50)\n",
    "\n",
    "\n",
    "\n",
    "scores = cross_val_score(clf, X, y, cv=n_folds, scoring = 'f1')\n",
    "\n",
    "clf.fit(X,y)\n",
    "y_pred = clf.predict(X)\n",
    "\n",
    "print (scores)\n",
    "\n",
    "print(roc_auc_score  (y,y_pred))\n",
    "print (accuracy_score (y,y_pred))\n",
    "print (f1_score (y,y_pred))\n",
    "print (recall_score (y,y_pred))\n",
    "print (precision_score (y,y_pred))\n",
    "\n",
    "cm = confusion_matrix(y, y_pred)\n",
    "print (cm)"
   ]
  },
  {
   "cell_type": "code",
   "execution_count": 163,
   "metadata": {
    "collapsed": false
   },
   "outputs": [
    {
     "name": "stdout",
     "output_type": "stream",
     "text": [
      "feature importance\n",
      "[ 0.4100564   0.21154615  0.37839744]\n",
      "coeffs\n"
     ]
    }
   ],
   "source": [
    "try:\n",
    "    print (\"feature importance\")\n",
    "    print (clf.feature_importances_)\n",
    "except:\n",
    "    pass\n",
    "\n",
    "try:\n",
    "    print (\"coeffs\")\n",
    "    print (clf.coef_)\n",
    "except:\n",
    "    pass"
   ]
  },
  {
   "cell_type": "code",
   "execution_count": 196,
   "metadata": {
    "collapsed": false
   },
   "outputs": [],
   "source": [
    "np.savetxt(\"pr_data/y_pred.csv\",y_pred, fmt='%2.0f', delimiter=\"\\n\")\n"
   ]
  }
 ],
 "metadata": {
  "kernelspec": {
   "display_name": "Python 3",
   "language": "python",
   "name": "python3"
  },
  "language_info": {
   "codemirror_mode": {
    "name": "ipython",
    "version": 3
   },
   "file_extension": ".py",
   "mimetype": "text/x-python",
   "name": "python",
   "nbconvert_exporter": "python",
   "pygments_lexer": "ipython3",
   "version": "3.4.3"
  }
 },
 "nbformat": 4,
 "nbformat_minor": 0
}
